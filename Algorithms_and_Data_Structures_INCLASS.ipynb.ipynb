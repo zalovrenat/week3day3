{
 "cells": [
  {
   "cell_type": "markdown",
   "metadata": {},
   "source": [
    "# Algorithms, Binary Search & Linked Lists"
   ]
  },
  {
   "cell_type": "markdown",
   "metadata": {},
   "source": [
    "## Tasks Today:\n",
    "### Algorithms\n",
    "1) <b>Two Pointers</b> <br>\n",
    "2) <b>Sorting Algorithms</b> <br>\n",
    "3) <b>Merge Sort</b> <br>\n",
    " &nbsp;&nbsp;&nbsp;&nbsp; a) Video on Algorithms <br>\n",
    " &nbsp;&nbsp;&nbsp;&nbsp; b) How it Works <br>\n",
    "\n",
    "\n",
    "### Data Structures:\n",
    "4) Arrays\n",
    "5) Stacks\n",
    "6) Queues\n",
    "7) Linked Lists\n",
    "    - Singly Linked Lists\n",
    "    - Traversing A Linked List\n",
    "    - Finding a node in a linked list\n",
    "    - Adding to a linked list\n",
    "8) Binary Search Tree\n",
    "9) <b>Exercises</b> <br>\n",
    " &nbsp;&nbsp;&nbsp;&nbsp; a) Exercise #1 - Reverse a List in Place Using an In-Place Algorithm <br>\n",
    " &nbsp;&nbsp;&nbsp;&nbsp; b) Exercise #2 - Find Distinct Words <br>\n",
    " &nbsp;&nbsp;&nbsp;&nbsp; c) Exercise #3 - Write a program to implement a Linear Search Algorithm. <br>"
   ]
  },
  {
   "cell_type": "markdown",
   "metadata": {},
   "source": [
    "## In-Place Algorithms"
   ]
  },
  {
   "cell_type": "markdown",
   "metadata": {},
   "source": [
    "#### Syntax"
   ]
  },
  {
   "cell_type": "code",
   "execution_count": 1,
   "metadata": {},
   "outputs": [
    {
     "name": "stdout",
     "output_type": "stream",
     "text": [
      "[9, 1, 5, 3, 2]\n"
     ]
    }
   ],
   "source": [
    "def swap(nums, index1, index2):\n",
    "    nums[index1], nums[index2] = nums[index2], nums[index1]\n",
    "\n",
    "my_list = [2,1,5,3,9]\n",
    "swap(my_list,0,4)\n",
    "print(my_list)"
   ]
  },
  {
   "cell_type": "markdown",
   "metadata": {},
   "source": [
    "#### Out of Place Algorithm"
   ]
  },
  {
   "cell_type": "code",
   "execution_count": 2,
   "metadata": {},
   "outputs": [
    {
     "name": "stdout",
     "output_type": "stream",
     "text": [
      "[2, 1, 5, 3, 9]\n",
      "None\n"
     ]
    }
   ],
   "source": [
    "def swap(nums, index1, index2):\n",
    "    copy = nums[:]\n",
    "    copy[index1], copy[index2] = copy[index2], copy[index1]\n",
    "\n",
    "my_list = [2,1,5,3,9]\n",
    "res = swap(my_list,0,4)\n",
    "print(my_list)\n",
    "print(res)\n"
   ]
  },
  {
   "cell_type": "markdown",
   "metadata": {},
   "source": [
    "#### In-Class Exercise #1 <br>\n",
    "<p>Write a function that takes in four arguments (list, index1, index2, index3), and swaps those three positions in the list passed in.</p>"
   ]
  },
  {
   "cell_type": "code",
   "execution_count": null,
   "metadata": {},
   "outputs": [],
   "source": [
    "l_1 = [10, 4, 3, 8, 4, 2, 6]\n",
    "\n"
   ]
  },
  {
   "cell_type": "markdown",
   "metadata": {},
   "source": [
    "## Two Pointers"
   ]
  },
  {
   "cell_type": "markdown",
   "metadata": {},
   "source": [
    "#### Syntax"
   ]
  },
  {
   "cell_type": "code",
   "execution_count": 6,
   "metadata": {},
   "outputs": [
    {
     "name": "stdout",
     "output_type": "stream",
     "text": [
      "[11, 9, 5, 5, 3, 2, 12]\n",
      "[12, 2, 3, 5, 5, 9, 11]\n"
     ]
    }
   ],
   "source": [
    "def swap(nums, index1, index2):\n",
    "    nums[index1], nums[index2] = nums[index2], nums[index1]\n",
    "\n",
    "my_list = [11,9,5,5,3,2,12]\n",
    "\n",
    "def two_pointer_reverse(nums):\n",
    "    left = 0\n",
    "    right = len(nums)-1\n",
    "    \n",
    "    while left < right:\n",
    "        swap(nums, left, right)\n",
    "        left += 1\n",
    "        right -= 1\n",
    "    print(nums)\n",
    "\n",
    "print(my_list)\n",
    "two_pointer_reverse(my_list)"
   ]
  },
  {
   "cell_type": "code",
   "execution_count": 7,
   "metadata": {},
   "outputs": [
    {
     "data": {
      "text/plain": [
       "'Shahi_Tsuchado'"
      ]
     },
     "execution_count": 7,
     "metadata": {},
     "output_type": "execute_result"
    }
   ],
   "source": [
    "def reverse_vowels_two_pointer(string):\n",
    "    left = 0\n",
    "    right = len(string) - 1\n",
    "    \n",
    "    vowels = {'a','e','i','o','u'}\n",
    "    string = [letter for letter in string]\n",
    "    \n",
    "    while left < right:\n",
    "        if string[left] not in vowels:\n",
    "            left += 1\n",
    "        if string[right] not in vowels:\n",
    "            right -= 1\n",
    "        if string[left] in vowels and string[right] in vowels:\n",
    "            swap(string,left,right)\n",
    "            left += 1\n",
    "            right -= 1\n",
    "    return \"\".join(string)\n",
    "\n",
    "reverse_vowels_two_pointer(\"Shoha_Tsuchida\")"
   ]
  },
  {
   "cell_type": "markdown",
   "metadata": {},
   "source": [
    "#### Video of Algorithms <br>\n",
    "<p>Watch the video about algorithms.</p>\n",
    "\n",
    "https://www.youtube.com/watch?v=Q9HjeFD62Uk\n",
    "\n",
    "https://www.youtube.com/watch?v=kPRA0W1kECg\n",
    "\n",
    "https://www.youtube.com/watch?v=ZZuD6iUe3Pc"
   ]
  },
  {
   "cell_type": "markdown",
   "metadata": {},
   "source": [
    "# Sorting Algorithms"
   ]
  },
  {
   "cell_type": "markdown",
   "metadata": {},
   "source": [
    "#### Bubble Sort\n",
    "\n",
    "Worst Case: O(n^2) Time - O(1) Space"
   ]
  },
  {
   "cell_type": "code",
   "execution_count": 19,
   "metadata": {},
   "outputs": [
    {
     "name": "stdout",
     "output_type": "stream",
     "text": [
      "22\n",
      "[1, 2, 3, 3, 3, 3, 3, 3, 3, 3, 4, 5, 6, 7, 8, 9, 10, 11, 11, 12, 13, 100, 100]\n"
     ]
    }
   ],
   "source": [
    "def swap(nums, index1, index2):\n",
    "    nums[index1], nums[index2] = nums[index2], nums[index1]\n",
    "\n",
    "def bubble_sort(nums):\n",
    "    iterations = 0\n",
    "    isSorted = False\n",
    "    for count in range(len(nums)):\n",
    "        isSorted = True\n",
    "        for index in range(len(nums)-1-count):\n",
    "            me = nums[index]\n",
    "            guy_in_front = nums[index+1]\n",
    "            iterations += 1\n",
    "            if me > guy_in_front:\n",
    "                swap(nums,index,index+1)\n",
    "                isSorted = False\n",
    "        if isSorted:\n",
    "            break\n",
    "    print(iterations)\n",
    "\n",
    "                \n",
    "my_list = [100,90,80,70,60,55,33,534,32,44,22,888,1,2,1,1,1,2,3,43]\n",
    "my_list2 = [1,2,3,3,3,3,3,3,3,3,4,5,6,7,8,9,10,11,11,12,13,100,100]\n",
    "bubble_sort(my_list2)\n",
    "print(my_list2)\n",
    "        "
   ]
  },
  {
   "cell_type": "markdown",
   "metadata": {},
   "source": [
    "##### Insertion Sort\n",
    "\n",
    "Worst Case: O(n^2) time - O(1)space"
   ]
  },
  {
   "cell_type": "code",
   "execution_count": 22,
   "metadata": {},
   "outputs": [
    {
     "name": "stdout",
     "output_type": "stream",
     "text": [
      "[1, 2, 3, 3, 3, 3, 3, 3, 3, 3, 4, 5, 6, 7, 8, 9, 10, 11, 11, 12, 13, 100, 100]\n"
     ]
    }
   ],
   "source": [
    "def swap(nums, index1, index2):\n",
    "    nums[index1], nums[index2] = nums[index2], nums[index1]\n",
    "\n",
    "def insertion_sort(nums):\n",
    "    for overall in range(1,len(nums)):\n",
    "        individual = overall\n",
    "        while individual > 0 and nums[individual] < nums[individual-1]:\n",
    "            swap(nums,individual,individual-1)\n",
    "            individual -= 1\n",
    "            \n",
    "my_list = [100,90,80,70,60,55,33,534,32,44,22,888,1,2,1,1,1,2,3,43]\n",
    "my_list2 = [1,2,3,3,3,3,3,3,3,3,4,5,6,7,8,9,10,11,11,12,13,100,100]\n",
    "\n",
    "insertion_sort(my_list2)\n",
    "print(my_list2)"
   ]
  },
  {
   "cell_type": "markdown",
   "metadata": {},
   "source": [
    "## Merge Sort"
   ]
  },
  {
   "cell_type": "markdown",
   "metadata": {},
   "source": [
    "#### How it Works"
   ]
  },
  {
   "cell_type": "code",
   "execution_count": 24,
   "metadata": {},
   "outputs": [
    {
     "name": "stdout",
     "output_type": "stream",
     "text": [
      "[1, 2, 3, 4, 4, 10, 11, 22, 22, 33, 44, 44, 53, 321, 5432]\n"
     ]
    }
   ],
   "source": [
    "def merge_sort(nums):\n",
    "#     print('splitting',nums)\n",
    "    if len(nums) > 1:\n",
    "        mid = len(nums) // 2\n",
    "        lefthalf = nums[:mid]\n",
    "        righthalf = nums[mid:]\n",
    "        \n",
    "        merge_sort(lefthalf)\n",
    "        merge_sort(righthalf)\n",
    "        \n",
    "        i = 0     # left side\n",
    "        j = 0     # right side\n",
    "        k = 0     # main list\n",
    "        \n",
    "        while i < len(lefthalf) and j < len(righthalf):\n",
    "            if lefthalf[i] < righthalf[j]:\n",
    "                nums[k] = lefthalf[i]\n",
    "                i += 1\n",
    "            else:\n",
    "                nums[k] = righthalf[j]\n",
    "                j += 1\n",
    "            k += 1\n",
    "        \n",
    "        while i < len(lefthalf):     # if left is not done yet\n",
    "            nums[k] = lefthalf[i]\n",
    "            i += 1\n",
    "            k += 1\n",
    "        while j < len(righthalf):     # if right is not done yet\n",
    "            nums[k] = righthalf[j]\n",
    "            j += 1\n",
    "            k += 1\n",
    "#     print('merging',nums)\n",
    "\n",
    "\n",
    "nums = [10,321,22,5432,33,22,44,11,53,44,4,4,3,2,1]\n",
    "\n",
    "merge_sort(nums)\n",
    "print(nums)"
   ]
  },
  {
   "cell_type": "markdown",
   "metadata": {},
   "source": [
    "# Binary Search\n",
    "\n",
    "The Binary Search algorithm works by finding the number in the middle of a given array and comparing it to the target. Given that the array is sorted\n",
    "\n",
    "* The worst case run time for this algorithm is `O(log(n))`"
   ]
  },
  {
   "cell_type": "code",
   "execution_count": 28,
   "metadata": {},
   "outputs": [
    {
     "name": "stdout",
     "output_type": "stream",
     "text": [
      "1\n",
      "2\n"
     ]
    },
    {
     "data": {
      "text/plain": [
       "'FOUND IT! What you are looking for is at index 13'"
      ]
     },
     "execution_count": 28,
     "metadata": {},
     "output_type": "execute_result"
    }
   ],
   "source": [
    "def binary_search(nums,target):\n",
    "    left = 0\n",
    "    right = len(nums)-1\n",
    "#     attempts = 0\n",
    "    while left <= right:\n",
    "        attempts += 1\n",
    "#         print(attempts)\n",
    "        middle = (left+right)//2\n",
    "        guess = nums[middle]\n",
    "        if target == guess:\n",
    "            return f\"FOUND IT! What you are looking for is at index {middle}\"\n",
    "        elif target < guess:\n",
    "            right = middle - 1\n",
    "        elif target > guess:\n",
    "            left = middle + 1\n",
    "    return \"What you are looking for does not exist.\"\n",
    "\n",
    "binary_search([1,1,1,1,1,1,1,2,3,4,5,6,7,8,9,10,11,12],8)"
   ]
  },
  {
   "cell_type": "markdown",
   "metadata": {},
   "source": [
    "## Arrays"
   ]
  },
  {
   "cell_type": "markdown",
   "metadata": {},
   "source": [
    "In python we benefit from the dynamic array which means the block of memory will expand as needed for the given input to the array. In traditional arrays (depending on the type of operating system) we will usually store our inputs in 4 or 8 consecutive blocks of memory."
   ]
  },
  {
   "cell_type": "markdown",
   "metadata": {},
   "source": [
    "## Which in python looks like this:"
   ]
  },
  {
   "cell_type": "code",
   "execution_count": 29,
   "metadata": {},
   "outputs": [],
   "source": [
    "nums = [4,6,7,8,9]"
   ]
  },
  {
   "cell_type": "markdown",
   "metadata": {},
   "source": [
    "### Let's take a look at some of the time and space analysis of arrays"
   ]
  },
  {
   "cell_type": "code",
   "execution_count": 31,
   "metadata": {},
   "outputs": [
    {
     "data": {
      "text/plain": [
       "False"
      ]
     },
     "execution_count": 31,
     "metadata": {},
     "output_type": "execute_result"
    }
   ],
   "source": [
    "# index an array (list)\n",
    "#constant time and constant space - O(1)\n",
    "nums[3]\n",
    "\n",
    "# searching through a list\n",
    "# Linear Time O(n) and Constant Space O(1)\n",
    "15 in nums\n",
    "\n",
    "# copying a list\n",
    "# linear time AND linear space\n",
    "copy = nums[:]\n",
    "\n",
    "# setting an index in a list\n",
    "# constant time and constant space O(1)\n",
    "nums[3] = 9000\n",
    "\n",
    "# inserting into a list\n",
    "# linear time and constant space\n",
    "nums.insert(3,3)\n",
    "\n",
    "# remove from list\n",
    "# linear time and constant space\n",
    "nums.pop(0)"
   ]
  },
  {
   "cell_type": "markdown",
   "metadata": {},
   "source": [
    "## Stacks and Queues\n",
    "\n",
    "** Stacks ** as the name suggests is a data structure that allows for data to follow the Last In First Out priciple(LIFO). Think of a stack of pancakes for example. To get the first pancake you would  start with the top and go down.\n",
    "\n",
    "##### Searching through a stack will be Linear Time O(n) - Constant Space O(1)\n",
    "##### Selecting the last item will be done in Constant Time O(1) - Constant Space O(1)\n",
    "##### Adding to the stack should take Constant Time O(1) - Constant Space O(1)\n",
    "\n",
    "** Queues ** are similar but in this case follow the First In First Out principle(FIFO). Think of this as a line in a black friday sale. The first person camped out for the big screen tv is the first to get it.\n",
    "\n",
    "##### Searching through a queue will be Linear Time O(n) - Constant Space O(1)\n",
    "##### Selecting the first item will be done in Constant Time O(1) - Constant Space O(1)\n",
    "##### Adding to the queue should take Constant Time O(1) - Constant Space O(1)"
   ]
  },
  {
   "cell_type": "code",
   "execution_count": 32,
   "metadata": {},
   "outputs": [
    {
     "name": "stdout",
     "output_type": "stream",
     "text": [
      "[10, 20]\n",
      "30\n",
      "=======================================\n",
      "['Shoha', 'Sarah', 'Rachel']\n",
      "Shoha\n",
      "['Sarah', 'Rachel']\n"
     ]
    }
   ],
   "source": [
    "stack = []\n",
    "stack.append(10)\n",
    "stack.append(20)\n",
    "stack.append(30)\n",
    "\n",
    "last_item = stack.pop()\n",
    "print(stack)\n",
    "print(last_item)\n",
    "\n",
    "print(\"=======================================\")\n",
    "\n",
    "queue = []\n",
    "queue.append('Shoha')\n",
    "queue.append(\"Sarah\")\n",
    "queue.append('Rachel')\n",
    "print(queue)\n",
    "first_person = queue.pop(0)\n",
    "print(first_person)\n",
    "print(queue)\n",
    "\n",
    "\n",
    "class Stack():\n",
    "    def __init__(self):\n",
    "        self.stack = []\n",
    "    \n",
    "    def add_to_stack(self,item):\n",
    "        self.stack.append(item)\n",
    "    def remove_from_stack(self):\n",
    "        return self.stack.pop()"
   ]
  },
  {
   "cell_type": "markdown",
   "metadata": {},
   "source": [
    "## Linked List (Data Structure)\n",
    "\n",
    "A linked list is created by using the node class. We create a Node object and create another class to use this node object. We pass the appropriate values thorugh the node object to point the to the next data elements.\n",
    "\n",
    "There are some advantages and disadvantages with this data structure. **Advantages** Linked Lists can save memory because they can be flexibile with memory management which saves memory. **Disadvantages** Finding or adding to the list requires traversing the entire list."
   ]
  },
  {
   "cell_type": "code",
   "execution_count": 34,
   "metadata": {},
   "outputs": [
    {
     "name": "stdout",
     "output_type": "stream",
     "text": [
      "5\n",
      "4\n",
      "3\n"
     ]
    }
   ],
   "source": [
    "class Node():\n",
    "    def __init__(self,value):\n",
    "        self.val = value\n",
    "        self.next = None\n",
    "    \n",
    "    def traverse(self):\n",
    "        cur = self\n",
    "        while cur != None:\n",
    "            print(cur.val)\n",
    "            cur = cur.next\n",
    "    \n",
    "n1 = Node(5)\n",
    "n2 = Node(4)\n",
    "n3 = Node(3)\n",
    "\n",
    "n1.next = n2\n",
    "n2.next = n3\n",
    "\n",
    "n1.traverse()"
   ]
  },
  {
   "cell_type": "code",
   "execution_count": 36,
   "metadata": {},
   "outputs": [
    {
     "name": "stdout",
     "output_type": "stream",
     "text": [
      "Mon\n",
      "Tue\n",
      "Wed\n",
      "Thu\n",
      "Fri\n"
     ]
    }
   ],
   "source": [
    "class Node():\n",
    "    def __init__(self, value):\n",
    "        self.val = value\n",
    "        self.next = None\n",
    "\n",
    "class LinkedList():\n",
    "    def __init__(self):\n",
    "        self.head = None\n",
    "    \n",
    "    def append(self, new_value):\n",
    "        node = Node(new_value)\n",
    "        if self.head is None:\n",
    "            self.head = node\n",
    "            return\n",
    "        last = self.head\n",
    "        while last.next:\n",
    "            last = last.next\n",
    "        last.next = node\n",
    "    \n",
    "    def prepend(self, new_value):\n",
    "        node = Node(new_value)\n",
    "        node.next = self.head\n",
    "        self.head = node\n",
    "    \n",
    "    def insert(self, new_value, prev_node):\n",
    "        if prev_node is None:\n",
    "            print(\"That node does not exist\")\n",
    "            return\n",
    "        node = Node(new_value)\n",
    "        node.next = prev_node.next\n",
    "        prev_node.next = node\n",
    "    \n",
    "    def traverse(self):\n",
    "        cur = self.head\n",
    "        while cur:\n",
    "            print(cur.val)\n",
    "            cur = cur.next\n",
    "\n",
    "weekdays = LinkedList()\n",
    "weekdays.prepend(\"Tue\")\n",
    "weekdays.append(\"Wed\")\n",
    "weekdays.append(\"Fri\")\n",
    "weekdays.prepend(\"Mon\")\n",
    "weekdays.insert(\"Thu\",weekdays.head.next.next)\n",
    "weekdays.traverse()"
   ]
  },
  {
   "cell_type": "markdown",
   "metadata": {},
   "source": [
    "## Binary Search Tree"
   ]
  },
  {
   "cell_type": "code",
   "execution_count": null,
   "metadata": {},
   "outputs": [],
   "source": []
  },
  {
   "cell_type": "markdown",
   "metadata": {},
   "source": [
    "# Exercises"
   ]
  },
  {
   "cell_type": "markdown",
   "metadata": {},
   "source": [
    "### Exercise #1 <br>\n",
    "<p>Reverse the list below in-place using an in-place algorithm.<br>For extra credit: Reverse the strings at the same time.</p>"
   ]
  },
  {
   "cell_type": "code",
   "execution_count": 59,
   "metadata": {},
   "outputs": [
    {
     "data": {
      "text/plain": [
       "['.', 'ecnetnes', 'a', 'si', 'siht']"
      ]
     },
     "execution_count": 59,
     "metadata": {},
     "output_type": "execute_result"
    }
   ],
   "source": [
    "words = ['this' , 'is', 'a', 'sentence', '.']\n",
    "\n",
    "def reverse_list(some_words):\n",
    "    left = 0\n",
    "    right = len(some_words) - 1\n",
    "    while left < right:\n",
    "        some_words[left], some_words[right] = some_words[right][::-1],some_words[left][::-1]\n",
    "        left += 1\n",
    "        right -= 1\n",
    "    return some_words\n",
    "\n",
    "reverse_list(words)"
   ]
  },
  {
   "cell_type": "markdown",
   "metadata": {},
   "source": [
    "### Exercise #2 <br>\n",
    "<p>Create a function that counts how many distinct words are in the string below, then outputs a dictionary with the words as the key and the value as the amount of times that word appears in the string.<br>Should output:<br>{'a': 5,<br>\n",
    " 'abstract': 1,<br>\n",
    " 'an': 3,<br>\n",
    " 'array': 2, ... etc...</p>"
   ]
  },
  {
   "cell_type": "code",
   "execution_count": 63,
   "metadata": {},
   "outputs": [
    {
     "data": {
      "text/plain": [
       "{'a': 5,\n",
       " 'abstract': 1,\n",
       " 'an': 3,\n",
       " 'array': 2,\n",
       " 'associative': 1,\n",
       " 'be': 1,\n",
       " 'buckets': 1,\n",
       " 'can': 2,\n",
       " 'compute': 1,\n",
       " 'computing': 1,\n",
       " 'data': 2,\n",
       " 'desired': 1,\n",
       " 'found': 1,\n",
       " 'from': 1,\n",
       " 'function': 1,\n",
       " 'hash': 4,\n",
       " 'implements': 1,\n",
       " 'in': 1,\n",
       " 'index': 1,\n",
       " 'into': 1,\n",
       " 'is': 1,\n",
       " 'keys': 1,\n",
       " 'map': 2,\n",
       " 'of': 1,\n",
       " 'or': 1,\n",
       " 'slots': 1,\n",
       " 'structure': 2,\n",
       " 'table': 2,\n",
       " 'that': 1,\n",
       " 'the': 1,\n",
       " 'to': 2,\n",
       " 'type': 1,\n",
       " 'uses': 1,\n",
       " 'value': 1,\n",
       " 'values': 1,\n",
       " 'which': 2}"
      ]
     },
     "execution_count": 63,
     "metadata": {},
     "output_type": "execute_result"
    }
   ],
   "source": [
    "a_text = 'In computing, a hash table hash map is a data structure which implements an associative array abstract data type, a structure that can map keys to values. A hash table uses a hash function to compute an index into an array of buckets or slots from which the desired value can be found'\n",
    "\n",
    "def normalized_text(some_text):\n",
    "    special_characters = '.,:;/?\\|!@#$%^&*()-_=+<>[]{}'\n",
    "    for sc in special_characters:\n",
    "        some_text = some_text.replace(sc,\"\")\n",
    "    return some_text.lower()\n",
    "\n",
    "def count_unique_words_in_string(some_text):\n",
    "    normalized = normalized_text(some_text)\n",
    "    unique_word_count_dict = dict()\n",
    "    unique_words = sorted(set(normalized.split()))\n",
    "    for word in unique_words:\n",
    "        unique_word_count_dict[word] = normalized.split().count(word)\n",
    "    return unique_word_count_dict\n",
    "    \n",
    "count_unique_words_in_string(a_text)\n"
   ]
  },
  {
   "cell_type": "markdown",
   "metadata": {},
   "source": [
    "## Exercise #3\n",
    "\n",
    "Write a program to implement a Linear Search Algorithm. Also in a comment, write the Time Complexity of the following algorithm.\n",
    "\n",
    "#### Hint: Linear Searching will require searching a list for a given number. "
   ]
  },
  {
   "cell_type": "code",
   "execution_count": 58,
   "metadata": {},
   "outputs": [
    {
     "data": {
      "text/plain": [
       "'The number is not in the list.'"
      ]
     },
     "execution_count": 58,
     "metadata": {},
     "output_type": "execute_result"
    }
   ],
   "source": [
    "# This linear search has a time complexity of O(n)\n",
    "\n",
    "nums = [1,2,3,4,5,6,7,8,9,10,-1,-2,-3,-4,-5,-6,-7,-8,-9,-10, 542,312]\n",
    "\n",
    "def linear_search(some_list,target_number):\n",
    "    for i in range(len(some_list)):\n",
    "        if some_list[i] == target_number:\n",
    "            return f\"The number you are looking for is in position {i+1} in the list.\"\n",
    "        else:\n",
    "            pass\n",
    "    return \"The number is not in the list.\"\n",
    "\n",
    "linear_search(nums,999)"
   ]
  }
 ],
 "metadata": {
  "kernelspec": {
   "display_name": "Python 3 (ipykernel)",
   "language": "python",
   "name": "python3"
  },
  "language_info": {
   "codemirror_mode": {
    "name": "ipython",
    "version": 3
   },
   "file_extension": ".py",
   "mimetype": "text/x-python",
   "name": "python",
   "nbconvert_exporter": "python",
   "pygments_lexer": "ipython3",
   "version": "3.10.9"
  }
 },
 "nbformat": 4,
 "nbformat_minor": 2
}
